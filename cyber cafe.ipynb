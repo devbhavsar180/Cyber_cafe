{
 "cells": [
  {
   "cell_type": "code",
   "execution_count": null,
   "id": "6bb8470c",
   "metadata": {},
   "outputs": [],
   "source": [
    "import time\n",
    "\n",
    "# Define the charge rate per hour\n",
    "CHARGE_RATE = 2.5\n",
    "\n",
    "# Dictionary to store user login information (you can use a database for a real-world application)\n",
    "users = {\n",
    "    'user1': {'password': 'pass123', 'time_used': 0},\n",
    "    'user2': {'password': 'secret', 'time_used': 0},\n",
    "}\n",
    "\n",
    "def login():\n",
    "    print(\"Welcome to the Cyber Cafe!\")\n",
    "    username = input(\"Enter your username: \")\n",
    "    password = input(\"Enter your password: \")\n",
    "\n",
    "    if username in users and users[username]['password'] == password:\n",
    "        print(\"Login successful!\")\n",
    "        return username\n",
    "    else:\n",
    "        print(\"Invalid username or password. Please try again.\")\n",
    "        return None\n",
    "\n",
    "def logout(username, start_time):\n",
    "    end_time = time.time()\n",
    "    time_used = end_time - start_time\n",
    "    users[username]['time_used'] += time_used\n",
    "    print(f\"Goodbye, {username}! You have used the computer for {time_used:.2f} seconds.\")\n",
    "    print(f\"Total time used: {users[username]['time_used']:.2f} seconds.\")\n",
    "    print(f\"Total charge: ${users[username]['time_used'] / 3600 * CHARGE_RATE:.2f}\")\n",
    "\n",
    "def main():\n",
    "    username = login()\n",
    "    if username:\n",
    "        start_time = time.time()\n",
    "        print(f\"Hello, {username}! You can start using the computer now.\")\n",
    "\n",
    "        while True:\n",
    "            action = input(\"Type 'logout' to log out and exit: \")\n",
    "            if action.lower() == 'logout':\n",
    "                logout(username, start_time)\n",
    "                break\n",
    "            else:\n",
    "                print(\"Invalid input. Please try again.\")\n",
    "\n",
    "if __name__ == \"__main__\":\n",
    "    main()\n"
   ]
  }
 ],
 "metadata": {
  "kernelspec": {
   "display_name": "Python 3 (ipykernel)",
   "language": "python",
   "name": "python3"
  },
  "language_info": {
   "codemirror_mode": {
    "name": "ipython",
    "version": 3
   },
   "file_extension": ".py",
   "mimetype": "text/x-python",
   "name": "python",
   "nbconvert_exporter": "python",
   "pygments_lexer": "ipython3",
   "version": "3.10.9"
  }
 },
 "nbformat": 4,
 "nbformat_minor": 5
}
